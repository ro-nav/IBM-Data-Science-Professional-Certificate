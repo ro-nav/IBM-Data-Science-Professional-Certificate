{
 "cells": [
  {
   "cell_type": "markdown",
   "metadata": {},
   "source": [
    "<center>\n",
    "    <img src=\"https://cf-courses-data.s3.us.cloud-object-storage.appdomain.cloud/IBMDeveloperSkillsNetwork-DS0105EN-SkillsNetwork/labs/Module2/images/SN_web_lightmode.png\" width=\"300\" alt=\"cognitiveclass.ai logo\">\n",
    "</center>\n"
   ]
  },
  {
   "cell_type": "markdown",
   "metadata": {},
   "source": [
    "#### Add your code below following the instructions given in the course\n"
   ]
  },
  {
   "cell_type": "markdown",
   "metadata": {},
   "source": [
    "# Data Science Tools and Ecosystem"
   ]
  },
  {
   "cell_type": "markdown",
   "metadata": {},
   "source": [
    "In this notebook, Data Science Tools and Ecosystem are summarized."
   ]
  },
  {
   "cell_type": "markdown",
   "metadata": {},
   "source": [
    "**Objectives:**\n",
    "\n",
    " - List the tasks that a data scientist needs to perform to build a model.\n",
    " - List the open-source tools used in data science.\n",
    " - Describe the relevant features of open-source tools.\n",
    " - List the commercial data science tools.\n",
    " - Identify the criteria and roles for determining the language to learn.\n",
    " - Identify the users and benefits of Python.\n",
    " - Identify the users and benefits of R language.\n",
    " - Define SQL elements and list its benefits.\n",
    " - Review languages such as Java, Scala, C++, JavaScript, and Julia.\n",
    " - List the global communities for connecting with other users.\n",
    " - List the various libraries: scientific, visualization, machine learning, and deep learning.\n",
    " - Define REST API in relation to request and response.\n",
    " - Describe data sets and sources of data.\n",
    " - Explore open data sets on the Data Asset eXchange.\n",
    " - Describe how to use a learning model to solve a problem.\n",
    " - Navigate the Model Asset eXchange from IBM Research.\n",
    " - Describe how to use the notebooks in JupyterLab.\n",
    " - Describe how to work in a notebook session.\n",
    " - Describe the basic Jupyter architecture.\n",
    " - Describe how to work with kernels.\n",
    " - Identify tools in Anaconda Jupyter environments.\n",
    " - Describe cloud based Jupyter environments and their data science features.\n",
    " - Describe R capabilities and RStudio environment.\n",
    " - Use the inbuilt R plot function.\n",
    " - Explain version control and describe the Git and GitHub environment.\n",
    " - Describe the purpose of source repositories and explain how GitHub satisfies the needs of a source repository.\n",
    " - Explain how to sign up for a GitHub account and describe how to create a repository.\n",
    " - Demonstrate how to edit and upload files in GitHub.\n",
    " - Explain the purpose of branches and describe how to merge changes into branches."
   ]
  },
  {
   "cell_type": "markdown",
   "metadata": {
    "tags": []
   },
   "source": [
    "Some of the popular languages that Data Scientists use are:\n",
    "\n",
    "1)\tPython\n",
    "\n",
    "2)\tJavaScript\n",
    "\n",
    "3)\tR language\n",
    "\n",
    "4)\tSQL\n",
    "\n",
    "5)\tJulia \n"
   ]
  },
  {
   "cell_type": "markdown",
   "metadata": {
    "tags": []
   },
   "source": [
    "Some of the commonly used libraries used by Data Scientists include:\n",
    "\n",
    "1)\tTensorFlow\n",
    "\n",
    "2)\tNumPy\n",
    "\n",
    "3)\tSciPy \n",
    "\n",
    "4)\tPandas\n",
    "\n",
    "5)\tMatplotlib \n",
    "\n",
    "6)\tKeras\n",
    "\n",
    "7)\tSciKit-Learn\n",
    "\n",
    "8)\tPyTorch\n"
   ]
  },
  {
   "cell_type": "markdown",
   "metadata": {},
   "source": [
    "| Data Science Tools |\n",
    "|---|\n",
    "| RStudio |\n",
    "| Apache Spark |\n",
    "| Apache Hadoop |"
   ]
  },
  {
   "cell_type": "markdown",
   "metadata": {},
   "source": [
    "### Below are a few examples of evaluating arithmetic expressions in Python"
   ]
  },
  {
   "cell_type": "code",
   "execution_count": 1,
   "metadata": {},
   "outputs": [
    {
     "data": {
      "text/plain": [
       "17"
      ]
     },
     "execution_count": 1,
     "metadata": {},
     "output_type": "execute_result"
    }
   ],
   "source": [
    "# This a simple arithmetic expression to mutiply then add integers\n",
    "(3*4)+5"
   ]
  },
  {
   "cell_type": "code",
   "execution_count": 3,
   "metadata": {},
   "outputs": [
    {
     "name": "stdout",
     "output_type": "stream",
     "text": [
      "3.3333333333333335\n"
     ]
    }
   ],
   "source": [
    "# This will convert 200 minutes to hours by diving by 60\n",
    "minutes = 200\n",
    "hours = 200 / 60\n",
    "print(hours)"
   ]
  },
  {
   "cell_type": "markdown",
   "metadata": {},
   "source": [
    "## Author\n",
    "Rohan Sanjay Bhapkar"
   ]
  },
  {
   "cell_type": "code",
   "execution_count": null,
   "metadata": {},
   "outputs": [],
   "source": []
  }
 ],
 "metadata": {
  "kernelspec": {
   "display_name": "Python",
   "language": "python",
   "name": "conda-env-python-py"
  },
  "language_info": {
   "codemirror_mode": {
    "name": "ipython",
    "version": 3
   },
   "file_extension": ".py",
   "mimetype": "text/x-python",
   "name": "python",
   "nbconvert_exporter": "python",
   "pygments_lexer": "ipython3",
   "version": "3.7.12"
  }
 },
 "nbformat": 4,
 "nbformat_minor": 4
}
